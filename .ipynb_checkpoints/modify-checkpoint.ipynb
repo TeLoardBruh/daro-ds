{
 "cells": [
  {
   "cell_type": "code",
   "execution_count": 1,
   "id": "9379dd88",
   "metadata": {},
   "outputs": [],
   "source": [
    "import pandas as pd\n",
    "from sklearn.model_selection import train_test_split\n",
    "from sklearn.preprocessing import OneHotEncoder"
   ]
  },
  {
   "cell_type": "code",
   "execution_count": 2,
   "id": "5a75d870",
   "metadata": {},
   "outputs": [],
   "source": [
    "dataset = pd.read_csv('train_data.csv')\n",
    "df = pd.DataFrame(dataset)"
   ]
  },
  {
   "cell_type": "code",
   "execution_count": 4,
   "id": "722dd68a",
   "metadata": {},
   "outputs": [
    {
     "data": {
      "text/html": [
       "<div>\n",
       "<style scoped>\n",
       "    .dataframe tbody tr th:only-of-type {\n",
       "        vertical-align: middle;\n",
       "    }\n",
       "\n",
       "    .dataframe tbody tr th {\n",
       "        vertical-align: top;\n",
       "    }\n",
       "\n",
       "    .dataframe thead th {\n",
       "        text-align: right;\n",
       "    }\n",
       "</style>\n",
       "<table border=\"1\" class=\"dataframe\">\n",
       "  <thead>\n",
       "    <tr style=\"text-align: right;\">\n",
       "      <th></th>\n",
       "      <th>sale_item</th>\n",
       "      <th>business_industry</th>\n",
       "    </tr>\n",
       "  </thead>\n",
       "  <tbody>\n",
       "    <tr>\n",
       "      <th>0</th>\n",
       "      <td>Pizza</td>\n",
       "      <td>Restaurant and Beverage</td>\n",
       "    </tr>\n",
       "    <tr>\n",
       "      <th>1</th>\n",
       "      <td>T-shirt</td>\n",
       "      <td>Retail Store</td>\n",
       "    </tr>\n",
       "    <tr>\n",
       "      <th>2</th>\n",
       "      <td>Electricity</td>\n",
       "      <td>Utilities</td>\n",
       "    </tr>\n",
       "    <tr>\n",
       "      <th>3</th>\n",
       "      <td>Band-Aids</td>\n",
       "      <td>Health Care</td>\n",
       "    </tr>\n",
       "    <tr>\n",
       "      <th>4</th>\n",
       "      <td>Burger</td>\n",
       "      <td>Restaurant and Beverage</td>\n",
       "    </tr>\n",
       "    <tr>\n",
       "      <th>...</th>\n",
       "      <td>...</td>\n",
       "      <td>...</td>\n",
       "    </tr>\n",
       "    <tr>\n",
       "      <th>135</th>\n",
       "      <td>Allergy Medicine</td>\n",
       "      <td>Health Care</td>\n",
       "    </tr>\n",
       "    <tr>\n",
       "      <th>136</th>\n",
       "      <td>Bakery</td>\n",
       "      <td>Restaurant and Beverage</td>\n",
       "    </tr>\n",
       "    <tr>\n",
       "      <th>137</th>\n",
       "      <td>Jacket</td>\n",
       "      <td>Retail Store</td>\n",
       "    </tr>\n",
       "    <tr>\n",
       "      <th>138</th>\n",
       "      <td>Electricity</td>\n",
       "      <td>Utilities</td>\n",
       "    </tr>\n",
       "    <tr>\n",
       "      <th>139</th>\n",
       "      <td>Insurance</td>\n",
       "      <td>Health Care</td>\n",
       "    </tr>\n",
       "  </tbody>\n",
       "</table>\n",
       "<p>140 rows × 2 columns</p>\n",
       "</div>"
      ],
      "text/plain": [
       "            sale_item        business_industry\n",
       "0               Pizza  Restaurant and Beverage\n",
       "1             T-shirt             Retail Store\n",
       "2         Electricity                Utilities\n",
       "3           Band-Aids              Health Care\n",
       "4              Burger  Restaurant and Beverage\n",
       "..                ...                      ...\n",
       "135  Allergy Medicine              Health Care\n",
       "136            Bakery  Restaurant and Beverage\n",
       "137            Jacket             Retail Store\n",
       "138       Electricity                Utilities\n",
       "139         Insurance              Health Care\n",
       "\n",
       "[140 rows x 2 columns]"
      ]
     },
     "execution_count": 4,
     "metadata": {},
     "output_type": "execute_result"
    }
   ],
   "source": [
    "df"
   ]
  },
  {
   "cell_type": "code",
   "execution_count": 5,
   "id": "3665cdfb",
   "metadata": {},
   "outputs": [],
   "source": [
    "# Load the data\n",
    "df = pd.read_csv('train_data.csv')\n",
    "\n",
    "X = pd.get_dummies(df['sale_item'])\n",
    "y = pd.get_dummies(df['business_industry'])\n",
    "X_train, X_test, y_train, y_test = train_test_split(X, y, test_size=0.2, random_state=42)\n"
   ]
  },
  {
   "cell_type": "code",
   "execution_count": 6,
   "id": "7c316204",
   "metadata": {
    "scrolled": true
   },
   "outputs": [
    {
     "name": "stderr",
     "output_type": "stream",
     "text": [
      "2023-07-15 10:44:49.869480: I tensorflow/core/platform/cpu_feature_guard.cc:193] This TensorFlow binary is optimized with oneAPI Deep Neural Network Library (oneDNN) to use the following CPU instructions in performance-critical operations:  AVX2 FMA\n",
      "To enable them in other operations, rebuild TensorFlow with the appropriate compiler flags.\n",
      "2023-07-15 10:44:50.108628: W tensorflow/compiler/xla/stream_executor/platform/default/dso_loader.cc:64] Could not load dynamic library 'libcudart.so.11.0'; dlerror: libcudart.so.11.0: cannot open shared object file: No such file or directory\n",
      "2023-07-15 10:44:50.108653: I tensorflow/compiler/xla/stream_executor/cuda/cudart_stub.cc:29] Ignore above cudart dlerror if you do not have a GPU set up on your machine.\n",
      "2023-07-15 10:44:51.166643: W tensorflow/compiler/xla/stream_executor/platform/default/dso_loader.cc:64] Could not load dynamic library 'libnvinfer.so.7'; dlerror: libnvinfer.so.7: cannot open shared object file: No such file or directory\n",
      "2023-07-15 10:44:51.166780: W tensorflow/compiler/xla/stream_executor/platform/default/dso_loader.cc:64] Could not load dynamic library 'libnvinfer_plugin.so.7'; dlerror: libnvinfer_plugin.so.7: cannot open shared object file: No such file or directory\n",
      "2023-07-15 10:44:51.166791: W tensorflow/compiler/tf2tensorrt/utils/py_utils.cc:38] TF-TRT Warning: Cannot dlopen some TensorRT libraries. If you would like to use Nvidia GPU with TensorRT, please make sure the missing libraries mentioned above are installed properly.\n",
      "2023-07-15 10:44:52.055565: W tensorflow/compiler/xla/stream_executor/platform/default/dso_loader.cc:64] Could not load dynamic library 'libcuda.so.1'; dlerror: libcuda.so.1: cannot open shared object file: No such file or directory\n",
      "2023-07-15 10:44:52.055597: W tensorflow/compiler/xla/stream_executor/cuda/cuda_driver.cc:265] failed call to cuInit: UNKNOWN ERROR (303)\n",
      "2023-07-15 10:44:52.055617: I tensorflow/compiler/xla/stream_executor/cuda/cuda_diagnostics.cc:156] kernel driver does not appear to be running on this host (rax-ThinkPad-X1-Yoga-4th): /proc/driver/nvidia/version does not exist\n",
      "2023-07-15 10:44:52.055849: I tensorflow/core/platform/cpu_feature_guard.cc:193] This TensorFlow binary is optimized with oneAPI Deep Neural Network Library (oneDNN) to use the following CPU instructions in performance-critical operations:  AVX2 FMA\n",
      "To enable them in other operations, rebuild TensorFlow with the appropriate compiler flags.\n"
     ]
    },
    {
     "name": "stdout",
     "output_type": "stream",
     "text": [
      "Epoch 1/50\n",
      "4/4 [==============================] - 1s 4ms/step - loss: 1.6254 - accuracy: 0.1339\n",
      "Epoch 2/50\n",
      "4/4 [==============================] - 0s 2ms/step - loss: 1.6131 - accuracy: 0.1339\n",
      "Epoch 3/50\n",
      "4/4 [==============================] - 0s 3ms/step - loss: 1.6012 - accuracy: 0.1339\n",
      "Epoch 4/50\n",
      "4/4 [==============================] - 0s 3ms/step - loss: 1.5899 - accuracy: 0.1339\n",
      "Epoch 5/50\n",
      "4/4 [==============================] - 0s 3ms/step - loss: 1.5788 - accuracy: 0.1161\n",
      "Epoch 6/50\n",
      "4/4 [==============================] - 0s 3ms/step - loss: 1.5679 - accuracy: 0.1250\n",
      "Epoch 7/50\n",
      "4/4 [==============================] - 0s 3ms/step - loss: 1.5569 - accuracy: 0.1875\n",
      "Epoch 8/50\n",
      "4/4 [==============================] - 0s 3ms/step - loss: 1.5459 - accuracy: 0.1875\n",
      "Epoch 9/50\n",
      "4/4 [==============================] - 0s 3ms/step - loss: 1.5354 - accuracy: 0.2232\n",
      "Epoch 10/50\n",
      "4/4 [==============================] - 0s 3ms/step - loss: 1.5251 - accuracy: 0.2232\n",
      "Epoch 11/50\n",
      "4/4 [==============================] - 0s 3ms/step - loss: 1.5148 - accuracy: 0.2321\n",
      "Epoch 12/50\n",
      "4/4 [==============================] - 0s 3ms/step - loss: 1.5047 - accuracy: 0.2500\n",
      "Epoch 13/50\n",
      "4/4 [==============================] - 0s 3ms/step - loss: 1.4948 - accuracy: 0.3036\n",
      "Epoch 14/50\n",
      "4/4 [==============================] - 0s 3ms/step - loss: 1.4847 - accuracy: 0.3393\n",
      "Epoch 15/50\n",
      "4/4 [==============================] - 0s 3ms/step - loss: 1.4747 - accuracy: 0.3929\n",
      "Epoch 16/50\n",
      "4/4 [==============================] - 0s 3ms/step - loss: 1.4645 - accuracy: 0.3929\n",
      "Epoch 17/50\n",
      "4/4 [==============================] - 0s 3ms/step - loss: 1.4546 - accuracy: 0.3929\n",
      "Epoch 18/50\n",
      "4/4 [==============================] - 0s 3ms/step - loss: 1.4446 - accuracy: 0.3929\n",
      "Epoch 19/50\n",
      "4/4 [==============================] - 0s 3ms/step - loss: 1.4347 - accuracy: 0.3929\n",
      "Epoch 20/50\n",
      "4/4 [==============================] - 0s 3ms/step - loss: 1.4248 - accuracy: 0.3929\n",
      "Epoch 21/50\n",
      "4/4 [==============================] - 0s 3ms/step - loss: 1.4146 - accuracy: 0.4196\n",
      "Epoch 22/50\n",
      "4/4 [==============================] - 0s 3ms/step - loss: 1.4051 - accuracy: 0.4464\n",
      "Epoch 23/50\n",
      "4/4 [==============================] - 0s 3ms/step - loss: 1.3948 - accuracy: 0.4464\n",
      "Epoch 24/50\n",
      "4/4 [==============================] - 0s 3ms/step - loss: 1.3850 - accuracy: 0.4464\n",
      "Epoch 25/50\n",
      "4/4 [==============================] - 0s 3ms/step - loss: 1.3745 - accuracy: 0.4732\n",
      "Epoch 26/50\n",
      "4/4 [==============================] - 0s 3ms/step - loss: 1.3641 - accuracy: 0.5268\n",
      "Epoch 27/50\n",
      "4/4 [==============================] - 0s 3ms/step - loss: 1.3537 - accuracy: 0.5268\n",
      "Epoch 28/50\n",
      "4/4 [==============================] - 0s 3ms/step - loss: 1.3432 - accuracy: 0.5268\n",
      "Epoch 29/50\n",
      "4/4 [==============================] - 0s 3ms/step - loss: 1.3325 - accuracy: 0.5982\n",
      "Epoch 30/50\n",
      "4/4 [==============================] - 0s 3ms/step - loss: 1.3219 - accuracy: 0.6607\n",
      "Epoch 31/50\n",
      "4/4 [==============================] - 0s 3ms/step - loss: 1.3110 - accuracy: 0.6696\n",
      "Epoch 32/50\n",
      "4/4 [==============================] - 0s 3ms/step - loss: 1.3004 - accuracy: 0.6696\n",
      "Epoch 33/50\n",
      "4/4 [==============================] - 0s 3ms/step - loss: 1.2896 - accuracy: 0.6696\n",
      "Epoch 34/50\n",
      "4/4 [==============================] - 0s 3ms/step - loss: 1.2786 - accuracy: 0.6875\n",
      "Epoch 35/50\n",
      "4/4 [==============================] - 0s 3ms/step - loss: 1.2676 - accuracy: 0.6875\n",
      "Epoch 36/50\n",
      "4/4 [==============================] - 0s 3ms/step - loss: 1.2566 - accuracy: 0.7411\n",
      "Epoch 37/50\n",
      "4/4 [==============================] - 0s 3ms/step - loss: 1.2450 - accuracy: 0.7411\n",
      "Epoch 38/50\n",
      "4/4 [==============================] - 0s 4ms/step - loss: 1.2339 - accuracy: 0.7411\n",
      "Epoch 39/50\n",
      "4/4 [==============================] - 0s 4ms/step - loss: 1.2226 - accuracy: 0.7411\n",
      "Epoch 40/50\n",
      "4/4 [==============================] - 0s 4ms/step - loss: 1.2109 - accuracy: 0.7679\n",
      "Epoch 41/50\n",
      "4/4 [==============================] - 0s 3ms/step - loss: 1.1993 - accuracy: 0.7946\n",
      "Epoch 42/50\n",
      "4/4 [==============================] - 0s 4ms/step - loss: 1.1878 - accuracy: 0.7946\n",
      "Epoch 43/50\n",
      "4/4 [==============================] - 0s 3ms/step - loss: 1.1756 - accuracy: 0.7946\n",
      "Epoch 44/50\n",
      "4/4 [==============================] - 0s 4ms/step - loss: 1.1640 - accuracy: 0.8125\n",
      "Epoch 45/50\n",
      "4/4 [==============================] - 0s 3ms/step - loss: 1.1519 - accuracy: 0.8125\n",
      "Epoch 46/50\n",
      "4/4 [==============================] - 0s 3ms/step - loss: 1.1398 - accuracy: 0.8125\n",
      "Epoch 47/50\n",
      "4/4 [==============================] - 0s 3ms/step - loss: 1.1275 - accuracy: 0.8214\n",
      "Epoch 48/50\n",
      "4/4 [==============================] - 0s 3ms/step - loss: 1.1149 - accuracy: 0.8304\n",
      "Epoch 49/50\n",
      "4/4 [==============================] - 0s 3ms/step - loss: 1.1024 - accuracy: 0.8304\n",
      "Epoch 50/50\n",
      "4/4 [==============================] - 0s 3ms/step - loss: 1.0894 - accuracy: 0.8304\n"
     ]
    },
    {
     "data": {
      "text/plain": [
       "<keras.callbacks.History at 0x7f8c486624a0>"
      ]
     },
     "execution_count": 6,
     "metadata": {},
     "output_type": "execute_result"
    }
   ],
   "source": [
    "from keras.models import Sequential\n",
    "from keras.layers import Dense\n",
    "\n",
    "model = Sequential()\n",
    "model.add(Dense(16, input_dim=X_train.shape[1], activation='relu'))\n",
    "model.add(Dense(y_train.shape[1], activation='softmax'))\n",
    "model.compile(loss='categorical_crossentropy', optimizer='adam', metrics=['accuracy'])\n",
    "model.fit(X_train, y_train, epochs=50, batch_size=32,verbose=1)\n"
   ]
  },
  {
   "cell_type": "code",
   "execution_count": 7,
   "id": "5f92d567",
   "metadata": {},
   "outputs": [
    {
     "name": "stdout",
     "output_type": "stream",
     "text": [
      "Test loss: 1.1340900659561157\n",
      "Test accuracy: 0.8214285969734192\n",
      "Test accuracy: [1.1340900659561157, 0.8214285969734192]\n"
     ]
    }
   ],
   "source": [
    "score = model.evaluate(X_test, y_test, verbose=0)\n",
    "print('Test loss:', score[0])\n",
    "print('Test accuracy:', score[1])\n",
    "print('Test accuracy:', score)"
   ]
  },
  {
   "cell_type": "code",
   "execution_count": 8,
   "id": "881195c5",
   "metadata": {},
   "outputs": [
    {
     "ename": "ImportError",
     "evalue": "cannot import name 'pad_sequences' from 'keras.preprocessing.sequence' (/home/rax/.local/lib/python3.10/site-packages/keras/preprocessing/sequence.py)",
     "output_type": "error",
     "traceback": [
      "\u001b[0;31m---------------------------------------------------------------------------\u001b[0m",
      "\u001b[0;31mImportError\u001b[0m                               Traceback (most recent call last)",
      "Cell \u001b[0;32mIn[8], line 4\u001b[0m\n\u001b[1;32m      2\u001b[0m \u001b[38;5;28;01mfrom\u001b[39;00m \u001b[38;5;21;01mkeras\u001b[39;00m\u001b[38;5;21;01m.\u001b[39;00m\u001b[38;5;21;01mmodels\u001b[39;00m \u001b[38;5;28;01mimport\u001b[39;00m load_model\n\u001b[1;32m      3\u001b[0m \u001b[38;5;28;01mfrom\u001b[39;00m \u001b[38;5;21;01mkeras\u001b[39;00m\u001b[38;5;21;01m.\u001b[39;00m\u001b[38;5;21;01mpreprocessing\u001b[39;00m\u001b[38;5;21;01m.\u001b[39;00m\u001b[38;5;21;01mtext\u001b[39;00m \u001b[38;5;28;01mimport\u001b[39;00m Tokenizer\n\u001b[0;32m----> 4\u001b[0m \u001b[38;5;28;01mfrom\u001b[39;00m \u001b[38;5;21;01mkeras\u001b[39;00m\u001b[38;5;21;01m.\u001b[39;00m\u001b[38;5;21;01mpreprocessing\u001b[39;00m\u001b[38;5;21;01m.\u001b[39;00m\u001b[38;5;21;01msequence\u001b[39;00m \u001b[38;5;28;01mimport\u001b[39;00m pad_sequences\n\u001b[1;32m      6\u001b[0m \u001b[38;5;66;03m# Preprocess new text data\u001b[39;00m\n\u001b[1;32m      7\u001b[0m new_text \u001b[38;5;241m=\u001b[39m [\u001b[38;5;124m\"\u001b[39m\u001b[38;5;124mIce cream\u001b[39m\u001b[38;5;124m\"\u001b[39m]\n",
      "\u001b[0;31mImportError\u001b[0m: cannot import name 'pad_sequences' from 'keras.preprocessing.sequence' (/home/rax/.local/lib/python3.10/site-packages/keras/preprocessing/sequence.py)"
     ]
    }
   ],
   "source": [
    "import numpy as np\n",
    "from keras.models import load_model\n",
    "from keras.preprocessing.text import Tokenizer\n",
    "from keras.preprocessing.sequence import pad_sequences\n",
    "\n",
    "# Preprocess new text data\n",
    "new_text = [\"Ice cream\"]\n",
    "tokenizer = Tokenizer()\n",
    "tokenizer.fit_on_texts(new_text)\n",
    "X_new = tokenizer.texts_to_sequences(new_text)\n",
    "X_new = pad_sequences(X_new, maxlen=100)\n",
    "\n",
    "# Make predictions on new data\n",
    "y_pred = model.predict(X_new)\n",
    "\n",
    "y_pred\n"
   ]
  },
  {
   "cell_type": "code",
   "execution_count": null,
   "id": "d14abbb4",
   "metadata": {},
   "outputs": [],
   "source": []
  }
 ],
 "metadata": {
  "kernelspec": {
   "display_name": "Python 3 (ipykernel)",
   "language": "python",
   "name": "python3"
  },
  "language_info": {
   "codemirror_mode": {
    "name": "ipython",
    "version": 3
   },
   "file_extension": ".py",
   "mimetype": "text/x-python",
   "name": "python",
   "nbconvert_exporter": "python",
   "pygments_lexer": "ipython3",
   "version": "3.10.6"
  },
  "vscode": {
   "interpreter": {
    "hash": "31f2aee4e71d21fbe5cf8b01ff0e069b9275f58929596ceb00d14d90e3e16cd6"
   }
  }
 },
 "nbformat": 4,
 "nbformat_minor": 5
}
