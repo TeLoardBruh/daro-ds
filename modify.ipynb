{
 "cells": [
  {
   "cell_type": "code",
   "execution_count": 31,
   "id": "9379dd88",
   "metadata": {},
   "outputs": [],
   "source": [
    "import pandas as pd\n",
    "from sklearn.model_selection import train_test_split\n",
    "from sklearn.preprocessing import OneHotEncoder"
   ]
  },
  {
   "cell_type": "code",
   "execution_count": 32,
   "id": "5a75d870",
   "metadata": {},
   "outputs": [],
   "source": [
    "dataset = pd.read_csv('train_data.csv')\n",
    "df = pd.DataFrame(dataset)"
   ]
  },
  {
   "cell_type": "code",
   "execution_count": 33,
   "id": "722dd68a",
   "metadata": {},
   "outputs": [
    {
     "data": {
      "text/html": [
       "<div>\n",
       "<style scoped>\n",
       "    .dataframe tbody tr th:only-of-type {\n",
       "        vertical-align: middle;\n",
       "    }\n",
       "\n",
       "    .dataframe tbody tr th {\n",
       "        vertical-align: top;\n",
       "    }\n",
       "\n",
       "    .dataframe thead th {\n",
       "        text-align: right;\n",
       "    }\n",
       "</style>\n",
       "<table border=\"1\" class=\"dataframe\">\n",
       "  <thead>\n",
       "    <tr style=\"text-align: right;\">\n",
       "      <th></th>\n",
       "      <th>sale_item</th>\n",
       "      <th>business_industry</th>\n",
       "    </tr>\n",
       "  </thead>\n",
       "  <tbody>\n",
       "    <tr>\n",
       "      <th>0</th>\n",
       "      <td>Pizza</td>\n",
       "      <td>Restaurant and Beverage</td>\n",
       "    </tr>\n",
       "    <tr>\n",
       "      <th>1</th>\n",
       "      <td>T-shirt</td>\n",
       "      <td>Retail Store</td>\n",
       "    </tr>\n",
       "    <tr>\n",
       "      <th>2</th>\n",
       "      <td>Electricity</td>\n",
       "      <td>Utilities</td>\n",
       "    </tr>\n",
       "    <tr>\n",
       "      <th>3</th>\n",
       "      <td>Band-Aids</td>\n",
       "      <td>Health Care</td>\n",
       "    </tr>\n",
       "    <tr>\n",
       "      <th>4</th>\n",
       "      <td>Burger</td>\n",
       "      <td>Restaurant and Beverage</td>\n",
       "    </tr>\n",
       "    <tr>\n",
       "      <th>...</th>\n",
       "      <td>...</td>\n",
       "      <td>...</td>\n",
       "    </tr>\n",
       "    <tr>\n",
       "      <th>135</th>\n",
       "      <td>Allergy Medicine</td>\n",
       "      <td>Health Care</td>\n",
       "    </tr>\n",
       "    <tr>\n",
       "      <th>136</th>\n",
       "      <td>Bakery</td>\n",
       "      <td>Restaurant and Beverage</td>\n",
       "    </tr>\n",
       "    <tr>\n",
       "      <th>137</th>\n",
       "      <td>Jacket</td>\n",
       "      <td>Retail Store</td>\n",
       "    </tr>\n",
       "    <tr>\n",
       "      <th>138</th>\n",
       "      <td>Electricity</td>\n",
       "      <td>Utilities</td>\n",
       "    </tr>\n",
       "    <tr>\n",
       "      <th>139</th>\n",
       "      <td>Insurance</td>\n",
       "      <td>Health Care</td>\n",
       "    </tr>\n",
       "  </tbody>\n",
       "</table>\n",
       "<p>140 rows × 2 columns</p>\n",
       "</div>"
      ],
      "text/plain": [
       "            sale_item        business_industry\n",
       "0               Pizza  Restaurant and Beverage\n",
       "1             T-shirt             Retail Store\n",
       "2         Electricity                Utilities\n",
       "3           Band-Aids              Health Care\n",
       "4              Burger  Restaurant and Beverage\n",
       "..                ...                      ...\n",
       "135  Allergy Medicine              Health Care\n",
       "136            Bakery  Restaurant and Beverage\n",
       "137            Jacket             Retail Store\n",
       "138       Electricity                Utilities\n",
       "139         Insurance              Health Care\n",
       "\n",
       "[140 rows x 2 columns]"
      ]
     },
     "execution_count": 33,
     "metadata": {},
     "output_type": "execute_result"
    }
   ],
   "source": [
    "df"
   ]
  },
  {
   "cell_type": "code",
   "execution_count": 34,
   "id": "3665cdfb",
   "metadata": {},
   "outputs": [],
   "source": [
    "# Load the data\n",
    "df = pd.read_csv('train_data.csv')\n",
    "\n",
    "X = pd.get_dummies(df['sale_item'])\n",
    "y = pd.get_dummies(df['business_industry'])\n",
    "X_train, X_test, y_train, y_test = train_test_split(X, y, test_size=0.2, random_state=42)\n"
   ]
  },
  {
   "cell_type": "code",
   "execution_count": 35,
   "id": "7c316204",
   "metadata": {
    "scrolled": true
   },
   "outputs": [
    {
     "name": "stdout",
     "output_type": "stream",
     "text": [
      "Epoch 1/50\n",
      "4/4 [==============================] - 0s 6ms/step - loss: 1.6129 - accuracy: 0.2679\n",
      "Epoch 2/50\n",
      "4/4 [==============================] - 0s 8ms/step - loss: 1.6013 - accuracy: 0.2857\n",
      "Epoch 3/50\n",
      "4/4 [==============================] - 0s 10ms/step - loss: 1.5906 - accuracy: 0.2857\n",
      "Epoch 4/50\n",
      "4/4 [==============================] - 0s 9ms/step - loss: 1.5803 - accuracy: 0.3036\n",
      "Epoch 5/50\n",
      "4/4 [==============================] - 0s 8ms/step - loss: 1.5701 - accuracy: 0.3393\n",
      "Epoch 6/50\n",
      "4/4 [==============================] - 0s 6ms/step - loss: 1.5602 - accuracy: 0.4196\n",
      "Epoch 7/50\n",
      "4/4 [==============================] - 0s 6ms/step - loss: 1.5504 - accuracy: 0.4286\n",
      "Epoch 8/50\n",
      "4/4 [==============================] - 0s 5ms/step - loss: 1.5407 - accuracy: 0.4732\n",
      "Epoch 9/50\n",
      "4/4 [==============================] - 0s 4ms/step - loss: 1.5312 - accuracy: 0.4821\n",
      "Epoch 10/50\n",
      "4/4 [==============================] - 0s 6ms/step - loss: 1.5217 - accuracy: 0.5804\n",
      "Epoch 11/50\n",
      "4/4 [==============================] - 0s 5ms/step - loss: 1.5123 - accuracy: 0.5893\n",
      "Epoch 12/50\n",
      "4/4 [==============================] - 0s 6ms/step - loss: 1.5029 - accuracy: 0.5893\n",
      "Epoch 13/50\n",
      "4/4 [==============================] - 0s 6ms/step - loss: 1.4934 - accuracy: 0.5893\n",
      "Epoch 14/50\n",
      "4/4 [==============================] - 0s 4ms/step - loss: 1.4844 - accuracy: 0.5982\n",
      "Epoch 15/50\n",
      "4/4 [==============================] - 0s 5ms/step - loss: 1.4748 - accuracy: 0.6339\n",
      "Epoch 16/50\n",
      "4/4 [==============================] - 0s 5ms/step - loss: 1.4651 - accuracy: 0.6339\n",
      "Epoch 17/50\n",
      "4/4 [==============================] - 0s 5ms/step - loss: 1.4554 - accuracy: 0.6607\n",
      "Epoch 18/50\n",
      "4/4 [==============================] - 0s 5ms/step - loss: 1.4459 - accuracy: 0.6607\n",
      "Epoch 19/50\n",
      "4/4 [==============================] - 0s 5ms/step - loss: 1.4362 - accuracy: 0.6786\n",
      "Epoch 20/50\n",
      "4/4 [==============================] - 0s 5ms/step - loss: 1.4264 - accuracy: 0.6786\n",
      "Epoch 21/50\n",
      "4/4 [==============================] - 0s 5ms/step - loss: 1.4170 - accuracy: 0.7054\n",
      "Epoch 22/50\n",
      "4/4 [==============================] - 0s 6ms/step - loss: 1.4072 - accuracy: 0.7679\n",
      "Epoch 23/50\n",
      "4/4 [==============================] - 0s 6ms/step - loss: 1.3974 - accuracy: 0.7679\n",
      "Epoch 24/50\n",
      "4/4 [==============================] - 0s 6ms/step - loss: 1.3874 - accuracy: 0.7679\n",
      "Epoch 25/50\n",
      "4/4 [==============================] - 0s 5ms/step - loss: 1.3775 - accuracy: 0.7679\n",
      "Epoch 26/50\n",
      "4/4 [==============================] - 0s 6ms/step - loss: 1.3672 - accuracy: 0.7679\n",
      "Epoch 27/50\n",
      "4/4 [==============================] - 0s 5ms/step - loss: 1.3566 - accuracy: 0.7679\n",
      "Epoch 28/50\n",
      "4/4 [==============================] - 0s 6ms/step - loss: 1.3462 - accuracy: 0.7679\n",
      "Epoch 29/50\n",
      "4/4 [==============================] - 0s 7ms/step - loss: 1.3355 - accuracy: 0.7679\n",
      "Epoch 30/50\n",
      "4/4 [==============================] - 0s 5ms/step - loss: 1.3248 - accuracy: 0.7589\n",
      "Epoch 31/50\n",
      "4/4 [==============================] - 0s 4ms/step - loss: 1.3141 - accuracy: 0.7589\n",
      "Epoch 32/50\n",
      "4/4 [==============================] - 0s 5ms/step - loss: 1.3033 - accuracy: 0.7589\n",
      "Epoch 33/50\n",
      "4/4 [==============================] - 0s 5ms/step - loss: 1.2926 - accuracy: 0.7589\n",
      "Epoch 34/50\n",
      "4/4 [==============================] - 0s 4ms/step - loss: 1.2814 - accuracy: 0.7589\n",
      "Epoch 35/50\n",
      "4/4 [==============================] - 0s 6ms/step - loss: 1.2706 - accuracy: 0.7589\n",
      "Epoch 36/50\n",
      "4/4 [==============================] - 0s 4ms/step - loss: 1.2597 - accuracy: 0.7589\n",
      "Epoch 37/50\n",
      "4/4 [==============================] - 0s 5ms/step - loss: 1.2485 - accuracy: 0.7589\n",
      "Epoch 38/50\n",
      "4/4 [==============================] - 0s 5ms/step - loss: 1.2374 - accuracy: 0.7589\n",
      "Epoch 39/50\n",
      "4/4 [==============================] - 0s 5ms/step - loss: 1.2260 - accuracy: 0.7589\n",
      "Epoch 40/50\n",
      "4/4 [==============================] - 0s 4ms/step - loss: 1.2145 - accuracy: 0.7589\n",
      "Epoch 41/50\n",
      "4/4 [==============================] - 0s 5ms/step - loss: 1.2028 - accuracy: 0.7946\n",
      "Epoch 42/50\n",
      "4/4 [==============================] - 0s 5ms/step - loss: 1.1910 - accuracy: 0.8036\n",
      "Epoch 43/50\n",
      "4/4 [==============================] - 0s 3ms/step - loss: 1.1790 - accuracy: 0.8214\n",
      "Epoch 44/50\n",
      "4/4 [==============================] - 0s 4ms/step - loss: 1.1673 - accuracy: 0.8393\n",
      "Epoch 45/50\n",
      "4/4 [==============================] - 0s 4ms/step - loss: 1.1549 - accuracy: 0.8304\n",
      "Epoch 46/50\n",
      "4/4 [==============================] - 0s 4ms/step - loss: 1.1428 - accuracy: 0.8304\n",
      "Epoch 47/50\n",
      "4/4 [==============================] - 0s 5ms/step - loss: 1.1303 - accuracy: 0.8393\n",
      "Epoch 48/50\n",
      "4/4 [==============================] - 0s 5ms/step - loss: 1.1180 - accuracy: 0.8393\n",
      "Epoch 49/50\n",
      "4/4 [==============================] - 0s 4ms/step - loss: 1.1057 - accuracy: 0.8661\n",
      "Epoch 50/50\n",
      "4/4 [==============================] - 0s 4ms/step - loss: 1.0932 - accuracy: 0.8661\n"
     ]
    },
    {
     "data": {
      "text/plain": [
       "<keras.callbacks.History at 0x229176cb908>"
      ]
     },
     "execution_count": 35,
     "metadata": {},
     "output_type": "execute_result"
    }
   ],
   "source": [
    "from keras.models import Sequential\n",
    "from keras.layers import Dense\n",
    "\n",
    "model = Sequential()\n",
    "model.add(Dense(16, input_dim=X_train.shape[1], activation='relu'))\n",
    "model.add(Dense(y_train.shape[1], activation='softmax'))\n",
    "model.compile(loss='categorical_crossentropy', optimizer='adam', metrics=['accuracy'])\n",
    "model.fit(X_train, y_train, epochs=50, batch_size=32,verbose=1)\n"
   ]
  },
  {
   "cell_type": "code",
   "execution_count": 36,
   "id": "5f92d567",
   "metadata": {},
   "outputs": [
    {
     "name": "stdout",
     "output_type": "stream",
     "text": [
      "Test loss: 1.1222480535507202\n",
      "Test accuracy: 0.8214285969734192\n",
      "Test accuracy: [1.1222480535507202, 0.8214285969734192]\n"
     ]
    }
   ],
   "source": [
    "score = model.evaluate(X_test, y_test, verbose=0)\n",
    "print('Test loss:', score[0])\n",
    "print('Test accuracy:', score[1])\n",
    "print('Test accuracy:', score)"
   ]
  },
  {
   "cell_type": "code",
   "execution_count": null,
   "id": "881195c5",
   "metadata": {},
   "outputs": [],
   "source": []
  },
  {
   "cell_type": "code",
   "execution_count": null,
   "id": "d14abbb4",
   "metadata": {},
   "outputs": [],
   "source": []
  }
 ],
 "metadata": {
  "kernelspec": {
   "display_name": "Python 3 (ipykernel)",
   "language": "python",
   "name": "python3"
  },
  "language_info": {
   "codemirror_mode": {
    "name": "ipython",
    "version": 3
   },
   "file_extension": ".py",
   "mimetype": "text/x-python",
   "name": "python",
   "nbconvert_exporter": "python",
   "pygments_lexer": "ipython3",
   "version": "3.7.7"
  }
 },
 "nbformat": 4,
 "nbformat_minor": 5
}
